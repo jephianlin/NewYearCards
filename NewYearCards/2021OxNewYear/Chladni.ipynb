{
 "cells": [
  {
   "cell_type": "markdown",
   "metadata": {},
   "source": [
    "## Make Chladni figures by computed functions"
   ]
  },
  {
   "cell_type": "markdown",
   "metadata": {},
   "source": [
    "(n,m) = (5,7), (7,13)"
   ]
  },
  {
   "cell_type": "code",
   "execution_count": null,
   "metadata": {},
   "outputs": [],
   "source": [
    "import numpy as np\n",
    "import matplotlib.pyplot as plt\n",
    "from math import pi\n",
    "\n",
    "n,m = 7,13\n",
    "\n",
    "fig = plt.figure(figsize=(5,5))\n",
    "ax = fig.add_axes([0,0,1,1])\n",
    "ax.axis('equal')\n",
    "ax.axis('off')\n",
    "ax.margins(0)\n",
    "dim = 500\n",
    "thres = 0.05\n",
    "x_freq,y_freq = n,m ### n and m\n",
    "x_2d, y_2d = np.meshgrid(np.linspace(0,1,dim),\n",
    "                         np.linspace(0,1,dim))\n",
    "x = x_2d.ravel()\n",
    "y = y_2d.ravel()\n",
    "### cos(n pi x)cos(m pi y) - cos(n pi y)cos(m pi x)\n",
    "z = np.abs( np.cos(x*x_freq*pi)*np.cos(y*y_freq*pi)\n",
    "           -np.cos(x*y_freq*pi)*np.cos(y*x_freq*pi) )  \n",
    "mask = (z < thres)\n",
    "ax.scatter(x[mask], y[mask], s=0.3)\n",
    "plt.savefig(\"%s%s.png\"%(n,m), transparent=True)"
   ]
  },
  {
   "cell_type": "markdown",
   "metadata": {},
   "source": [
    "# Make Chladni figures by discrete simulation"
   ]
  },
  {
   "cell_type": "code",
   "execution_count": null,
   "metadata": {
    "scrolled": true
   },
   "outputs": [],
   "source": [
    "import networkx as nx\n",
    "\n",
    "w = 99\n",
    "m = int((w - 1) / 2)\n",
    "m_ind = m*w + m\n",
    "g = nx.grid_2d_graph(w,w)\n",
    "L = nx.laplacian_matrix(g).toarray()\n",
    "L[m_ind,m_ind] += 10"
   ]
  },
  {
   "cell_type": "code",
   "execution_count": null,
   "metadata": {},
   "outputs": [],
   "source": [
    "from scipy import linalg as LA\n",
    "### take a while\n",
    "vals,vecs = LA.eigh(L)"
   ]
  },
  {
   "cell_type": "code",
   "execution_count": null,
   "metadata": {},
   "outputs": [],
   "source": [
    "import numpy as np\n",
    "import matplotlib.pyplot as plt"
   ]
  },
  {
   "cell_type": "code",
   "execution_count": null,
   "metadata": {},
   "outputs": [],
   "source": [
    "start = 160\n",
    "thres = 0.002\n",
    "\n",
    "fig = plt.figure(figsize=(10,4))\n",
    "axs = fig.subplots(2,5)\n",
    "\n",
    "for k in range(start, start+10):\n",
    "    i = (k - start) // 5\n",
    "    j = (k - start) % 5\n",
    "    ax = axs[i,j]\n",
    "    ax.axis('off')\n",
    "    ax.axis('equal')\n",
    "#     ax.imshow(vecs[:,k].reshape(w,w))\n",
    "    ax.imshow(np.abs(vecs[:,k].reshape(w,w)) < thres, cmap='Greys')"
   ]
  },
  {
   "cell_type": "markdown",
   "metadata": {},
   "source": [
    "53, 91, 95, 100, 183, 200  \n",
    "127 ~ (5,11)  \n",
    "183 ~ (7,13)  "
   ]
  },
  {
   "cell_type": "code",
   "execution_count": null,
   "metadata": {},
   "outputs": [],
   "source": [
    "k = 183\n",
    "thres = 0.003\n",
    "img = -np.abs(vecs[:,k].reshape(w,w).copy())\n",
    "# img[img < -thres] = -0.01\n",
    "img = (img > -thres)\n",
    "fig = plt.figure(figsize=(5,5))\n",
    "ax = fig.add_axes([0,0,1,1])\n",
    "ax.axis('equal')\n",
    "ax.axis('off')\n",
    "ax.margins(0)\n",
    "ax.imshow(img, cmap='binary')\n",
    "plt.savefig('%s.png'%k, transparent=True)"
   ]
  },
  {
   "cell_type": "code",
   "execution_count": null,
   "metadata": {},
   "outputs": [],
   "source": [
    "from PIL import Image\n",
    "\n",
    "img = Image.open('%s.png'%k)\n",
    "img = img.convert(\"RGBA\")\n",
    "datas = img.getdata()\n",
    "\n",
    "newData = []\n",
    "for item in datas:\n",
    "    if item[0] == 255 and item[1] == 255 and item[2] == 255:\n",
    "        newData.append((255, 255, 255, 0))\n",
    "    else:\n",
    "        newData.append(item)\n",
    "        \n",
    "img.putdata(newData)\n",
    "img.save(\"%s.png\"%k, \"PNG\")"
   ]
  },
  {
   "cell_type": "code",
   "execution_count": null,
   "metadata": {},
   "outputs": [],
   "source": []
  },
  {
   "cell_type": "markdown",
   "metadata": {},
   "source": [
    "# Store the eigenvector data"
   ]
  },
  {
   "cell_type": "code",
   "execution_count": null,
   "metadata": {},
   "outputs": [],
   "source": [
    "from pickle import load, dump"
   ]
  },
  {
   "cell_type": "code",
   "execution_count": null,
   "metadata": {},
   "outputs": [],
   "source": [
    "dump(vals, open('vals.pkl', \"wb\" ))\n",
    "dump(vecs, open('vecs.pkl', \"wb\" ))"
   ]
  },
  {
   "cell_type": "code",
   "execution_count": null,
   "metadata": {},
   "outputs": [],
   "source": [
    "vals = load(open('vals.pkl', \"rb\" ))\n",
    "vecs = load(open('vecs.pkl', \"rb\" ))"
   ]
  },
  {
   "cell_type": "code",
   "execution_count": null,
   "metadata": {},
   "outputs": [],
   "source": []
  }
 ],
 "metadata": {
  "kernelspec": {
   "display_name": "Python 3",
   "language": "python",
   "name": "python3"
  },
  "language_info": {
   "codemirror_mode": {
    "name": "ipython",
    "version": 3
   },
   "file_extension": ".py",
   "mimetype": "text/x-python",
   "name": "python",
   "nbconvert_exporter": "python",
   "pygments_lexer": "ipython3",
   "version": "3.9.1"
  }
 },
 "nbformat": 4,
 "nbformat_minor": 2
}
